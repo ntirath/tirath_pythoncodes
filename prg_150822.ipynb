{
 "cells": [
  {
   "cell_type": "code",
   "execution_count": 5,
   "metadata": {},
   "outputs": [
    {
     "name": "stdout",
     "output_type": "stream",
     "text": [
      "6.708203932499369\n"
     ]
    }
   ],
   "source": [
    "import math\n",
    "s = int(input(\"Enter the value of which squareroot is to be determined\"))\n",
    "X =  math.sqrt(s)\n",
    "print(X)"
   ]
  },
  {
   "cell_type": "code",
   "execution_count": 11,
   "metadata": {},
   "outputs": [
    {
     "name": "stdout",
     "output_type": "stream",
     "text": [
      "0.7071067811865476\n"
     ]
    }
   ],
   "source": [
    "import math\n",
    "x = 45\n",
    "y = x * (math.pi/180)\n",
    "s = math.sin(y)\n",
    "print(s)"
   ]
  },
  {
   "cell_type": "code",
   "execution_count": 12,
   "metadata": {},
   "outputs": [
    {
     "name": "stdout",
     "output_type": "stream",
     "text": [
      "1.0\n"
     ]
    }
   ],
   "source": [
    "from math import cos\n",
    "x = cos(math.radians(0))\n",
    "print(x)"
   ]
  },
  {
   "cell_type": "code",
   "execution_count": 2,
   "metadata": {},
   "outputs": [
    {
     "name": "stdout",
     "output_type": "stream",
     "text": [
      "0.7853981633974483 45.0\n"
     ]
    }
   ],
   "source": [
    "from math import *\n",
    "x = pi/4\n",
    "y = degrees(x)\n",
    "print(x, y)"
   ]
  },
  {
   "cell_type": "code",
   "execution_count": 13,
   "metadata": {},
   "outputs": [
    {
     "name": "stdout",
     "output_type": "stream",
     "text": [
      "Enclosing scope Global Scope\n",
      "Global Scope Enclosing scope local scope\n",
      "Global Scope Global scope2\n"
     ]
    }
   ],
   "source": [
    "x = \"Global Scope\"\n",
    "def outer_func():\n",
    "    y = \"Enclosing scope\"\n",
    "    print(y,x)\n",
    "    def inner_func():\n",
    "        z = \"local scope\"\n",
    "        print(x, y, z)\n",
    "    inner_func()\n",
    "outer_func()\n",
    "s = \"Global scope2\"\n",
    "print(x,s)\n"
   ]
  },
  {
   "cell_type": "code",
   "execution_count": 8,
   "metadata": {},
   "outputs": [
    {
     "name": "stdout",
     "output_type": "stream",
     "text": [
      " Takes in a number n, returns the square of  n\n",
      "    input can be integer or float\n",
      "    \n",
      "This module provides access to the mathematical functions\n",
      "defined by the C standard.\n"
     ]
    }
   ],
   "source": [
    "import math\n",
    "def square(n):\n",
    "    ''' Takes in a number n, returns the square of  n\n",
    "    input can be integer or float\n",
    "    '''\n",
    "    return n**2\n",
    "\n",
    "\n",
    "print(square.__doc__)\n",
    "print(math.__doc__)"
   ]
  },
  {
   "cell_type": "code",
   "execution_count": 9,
   "metadata": {},
   "outputs": [
    {
     "name": "stdout",
     "output_type": "stream",
     "text": [
      "343\n"
     ]
    }
   ],
   "source": [
    "lambda_cube = lambda y: y**3\n",
    "print(lambda_cube(7))"
   ]
  },
  {
   "cell_type": "code",
   "execution_count": 10,
   "metadata": {},
   "outputs": [
    {
     "name": "stdout",
     "output_type": "stream",
     "text": [
      "<function sq.<locals>.<lambda> at 0x0000022FA101B6D0>\n"
     ]
    }
   ],
   "source": [
    "def sq(y):\n",
    "    return lambda y: y * y\n",
    "\n",
    "print(sq(4))"
   ]
  },
  {
   "cell_type": "code",
   "execution_count": 16,
   "metadata": {},
   "outputs": [
    {
     "name": "stdout",
     "output_type": "stream",
     "text": [
      "125\n"
     ]
    }
   ],
   "source": [
    "def cube():\n",
    "    return lambda y: y*y*y\n",
    "\n",
    "L1 = cube()\n",
    "print(L1(5))\n"
   ]
  },
  {
   "cell_type": "code",
   "execution_count": 17,
   "metadata": {},
   "outputs": [
    {
     "name": "stdout",
     "output_type": "stream",
     "text": [
      "50\n"
     ]
    }
   ],
   "source": [
    "def cube():\n",
    "    n = 10\n",
    "    return lambda y: y*n\n",
    "\n",
    "L1 = cube()\n",
    "print(L1(5))"
   ]
  },
  {
   "cell_type": "code",
   "execution_count": 18,
   "metadata": {},
   "outputs": [
    {
     "name": "stdout",
     "output_type": "stream",
     "text": [
      "10\n"
     ]
    }
   ],
   "source": [
    "def cube(y):\n",
    "    n = y\n",
    "    return lambda y: y*n\n",
    "\n",
    "L1 = cube(2)\n",
    "print(L1(5))"
   ]
  },
  {
   "cell_type": "code",
   "execution_count": 19,
   "metadata": {},
   "outputs": [
    {
     "name": "stdout",
     "output_type": "stream",
     "text": [
      "10\n"
     ]
    }
   ],
   "source": [
    "def cube(y):\n",
    "    n = y\n",
    "    return lambda y: y*n\n",
    "\n",
    "Lambda_func_address = cube(2)\n",
    "print(Lambda_func_address(5))"
   ]
  },
  {
   "cell_type": "code",
   "execution_count": 20,
   "metadata": {},
   "outputs": [
    {
     "name": "stdout",
     "output_type": "stream",
     "text": [
      "alpha\n",
      "beta\n",
      "gamma\n"
     ]
    }
   ],
   "source": [
    "mytuple = (\"alpha\", \"beta\", \"gamma\")\n",
    "myit =iter(mytuple)\n",
    "\n",
    "print(next(myit))\n",
    "print(next(myit))\n",
    "print(next(myit))"
   ]
  },
  {
   "cell_type": "code",
   "execution_count": 23,
   "metadata": {},
   "outputs": [
    {
     "name": "stdout",
     "output_type": "stream",
     "text": [
      "alpha\n",
      "beta\n",
      "gamma\n"
     ]
    }
   ],
   "source": [
    "tuple = (\"alpha\", \"beta\", \"gamma\")\n",
    "for x in tuple:\n",
    "    print(x)"
   ]
  },
  {
   "cell_type": "code",
   "execution_count": 24,
   "metadata": {},
   "outputs": [
    {
     "name": "stdout",
     "output_type": "stream",
     "text": [
      "b\n",
      "a\n",
      "n\n",
      "a\n",
      "n\n",
      "a\n"
     ]
    }
   ],
   "source": [
    "tuple = (\"banana\")\n",
    "for x in tuple:\n",
    "    print(x)"
   ]
  },
  {
   "cell_type": "code",
   "execution_count": 25,
   "metadata": {},
   "outputs": [
    {
     "name": "stdout",
     "output_type": "stream",
     "text": [
      "1\n",
      "2\n",
      "3\n"
     ]
    }
   ],
   "source": [
    "def simpleGenFun():\n",
    "    yield 1\n",
    "    yield 2\n",
    "    yield 3\n",
    "\n",
    "for value in simpleGenFun():\n",
    "    print(value)"
   ]
  },
  {
   "cell_type": "code",
   "execution_count": 2,
   "metadata": {},
   "outputs": [
    {
     "name": "stdout",
     "output_type": "stream",
     "text": [
      "Today is the Independence Day\n",
      "Today is 75th Anniversary of the Independence Day\n"
     ]
    }
   ],
   "source": [
    "#program to print multiple arguments in python\n",
    "\n",
    "def print_mul_args():\n",
    "    print(\"Today is the Independence Day\")\n",
    "    print(\"Today is 75th Anniversary of the Independence Day\")\n",
    "\n",
    "print_mul_args()"
   ]
  },
  {
   "cell_type": "code",
   "execution_count": 6,
   "metadata": {},
   "outputs": [
    {
     "ename": "ValueError",
     "evalue": "invalid literal for int() with base 10: ''",
     "output_type": "error",
     "traceback": [
      "\u001b[1;31m---------------------------------------------------------------------------\u001b[0m",
      "\u001b[1;31mValueError\u001b[0m                                Traceback (most recent call last)",
      "\u001b[1;32mc:\\Users\\user\\pycodes\\tirath_pythoncodes\\prg_150822.ipynb Cell 18\u001b[0m in \u001b[0;36m<cell line: 9>\u001b[1;34m()\u001b[0m\n\u001b[0;32m      <a href='vscode-notebook-cell:/c%3A/Users/user/pycodes/tirath_pythoncodes/prg_150822.ipynb#X23sZmlsZQ%3D%3D?line=0'>1</a>\u001b[0m \u001b[39m#Power of the number using recursion\u001b[39;00m\n\u001b[0;32m      <a href='vscode-notebook-cell:/c%3A/Users/user/pycodes/tirath_pythoncodes/prg_150822.ipynb#X23sZmlsZQ%3D%3D?line=1'>2</a>\u001b[0m \n\u001b[0;32m      <a href='vscode-notebook-cell:/c%3A/Users/user/pycodes/tirath_pythoncodes/prg_150822.ipynb#X23sZmlsZQ%3D%3D?line=2'>3</a>\u001b[0m \u001b[39m# def pow_num(n,p):\u001b[39;00m\n\u001b[1;32m   (...)\u001b[0m\n\u001b[0;32m      <a href='vscode-notebook-cell:/c%3A/Users/user/pycodes/tirath_pythoncodes/prg_150822.ipynb#X23sZmlsZQ%3D%3D?line=5'>6</a>\u001b[0m \u001b[39m#     else:\u001b[39;00m\n\u001b[0;32m      <a href='vscode-notebook-cell:/c%3A/Users/user/pycodes/tirath_pythoncodes/prg_150822.ipynb#X23sZmlsZQ%3D%3D?line=6'>7</a>\u001b[0m \u001b[39m#         return (n**p)\u001b[39;00m\n\u001b[1;32m----> <a href='vscode-notebook-cell:/c%3A/Users/user/pycodes/tirath_pythoncodes/prg_150822.ipynb#X23sZmlsZQ%3D%3D?line=8'>9</a>\u001b[0m n \u001b[39m=\u001b[39m \u001b[39mint\u001b[39;49m(\u001b[39minput\u001b[39;49m(\u001b[39m\"\u001b[39;49m\u001b[39mEnter the value of the number , n = \u001b[39;49m\u001b[39m\"\u001b[39;49m))\n\u001b[0;32m     <a href='vscode-notebook-cell:/c%3A/Users/user/pycodes/tirath_pythoncodes/prg_150822.ipynb#X23sZmlsZQ%3D%3D?line=9'>10</a>\u001b[0m p \u001b[39m=\u001b[39m \u001b[39mint\u001b[39m(\u001b[39minput\u001b[39m(\u001b[39m\"\u001b[39m\u001b[39mEnter the value of the power , p = \u001b[39m\u001b[39m\"\u001b[39m))\n",
      "\u001b[1;31mValueError\u001b[0m: invalid literal for int() with base 10: ''"
     ]
    }
   ],
   "source": [
    "#Power of the number using recursion\n",
    "\n",
    "# def pow_num(n,p):\n",
    "#     if n == 0:\n",
    "#         return 1\n",
    "#     else:\n",
    "#         return (n**p)\n",
    "\n",
    "n = int(input(\"Enter the value of the number , n = \"))\n",
    "p = int(input(\"Enter the value of the power , p = \"))    \n",
    "#result = pow_num(n,p)\n",
    "#print(\"Power of the number  = \")\n",
    "    "
   ]
  }
 ],
 "metadata": {
  "kernelspec": {
   "display_name": "Python 3.10.5 64-bit",
   "language": "python",
   "name": "python3"
  },
  "language_info": {
   "codemirror_mode": {
    "name": "ipython",
    "version": 3
   },
   "file_extension": ".py",
   "mimetype": "text/x-python",
   "name": "python",
   "nbconvert_exporter": "python",
   "pygments_lexer": "ipython3",
   "version": "3.10.5"
  },
  "orig_nbformat": 4,
  "vscode": {
   "interpreter": {
    "hash": "fb4569285eef3a3450cb62085a5b1e0da4bce0af555edc33dcf29baf3acc1368"
   }
  }
 },
 "nbformat": 4,
 "nbformat_minor": 2
}
