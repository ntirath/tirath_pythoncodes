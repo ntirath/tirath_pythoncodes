{
 "cells": [
  {
   "cell_type": "code",
   "execution_count": 37,
   "metadata": {},
   "outputs": [
    {
     "name": "stdout",
     "output_type": "stream",
     "text": [
      "3\n",
      "8\n",
      "1\n",
      "['a', 'b', 'c']\n",
      "{8, 4, 5, 6}\n",
      "{1: 4, 2: 5, 3: 6}\n",
      "[1, 2, 3]\n",
      "(1, 2, 3)\n",
      "{1, 2, 3}\n",
      "[1, 2, 3, 9]\n",
      "3\n",
      "[4, 5, 6, 4, 6, 8, 6, 1, 2, 3, 9]\n",
      "0\n",
      "[4, 5, 6, 20, 4, 6, 8, 6, 1, 2, 3, 9]\n",
      "[4, 5, 6, 20, 4, 8, 6, 1, 2, 3, 9]\n",
      "[5, 6, 20, 4, 8, 6, 1, 2, 3, 9]\n",
      "[1, 2, 3, 4, 5, 6, 6, 8, 9, 20]\n",
      "[20, 9, 8, 6, 6, 5, 4, 3, 2, 1]\n",
      "[0, 1, 2, 3, 4, 5]\n"
     ]
    }
   ],
   "source": [
    "list1 = [1,2,3]\n",
    "list2 = [4,5,6,4,6,8,6]\n",
    "\n",
    "# a = cmp(list1, list2)\n",
    "# print(cmp(list1, list2))\n",
    "a = len(list1)\n",
    "print(a)\n",
    "\n",
    "b = max(list2)\n",
    "print(b)\n",
    "\n",
    "c = min(list1)\n",
    "print(c)\n",
    "\n",
    "tuple1 = ('a','b','c')\n",
    "list3 = list(tuple1)\n",
    "print(list3)\n",
    "\n",
    "set1 = set(list2)\n",
    "print(set1)\n",
    "\n",
    "dict1 = dict(zip(list1,list2))\n",
    "print(dict1)\n",
    "\n",
    "listx = list(dict1)\n",
    "print(listx)\n",
    "\n",
    "tuplex = tuple(dict1)\n",
    "print(tuplex)\n",
    "\n",
    "setx = set(dict1)\n",
    "print(setx)\n",
    "\n",
    "d = 9\n",
    "list1.append(d)\n",
    "print(list1)\n",
    "\n",
    "e = list2.count(6)\n",
    "print(e)\n",
    "\n",
    "list2.extend(list1)\n",
    "print(list2)\n",
    "\n",
    "print(list2.index(4))\n",
    "\n",
    "list2.insert(3,20)\n",
    "print(list2)\n",
    "\n",
    "g = 4\n",
    "list2.pop(5)\n",
    "print(list2)\n",
    "\n",
    "list2.remove(4)\n",
    "print(list2)\n",
    "\n",
    "list2.sort()\n",
    "print(list2)\n",
    "\n",
    "list2.reverse()\n",
    "print(list2)\n",
    "\n",
    "list4 = [i for i in range(len(list2)) if i <6 ]\n",
    "print(list4)"
   ]
  },
  {
   "cell_type": "markdown",
   "metadata": {},
   "source": [
    "import sys\n",
    "a_list = list()\n",
    "a_tuple = tuple()\n",
    "a_list = [1,2,3,4,5]\n",
    "a_tuple = (1,2,3,4,5)\n",
    "\n",
    "print(sys.getsizef(a_list),\"Bytes\")\n",
    "print(sys.getsizeof(a_tuple),\"Bytes\")"
   ]
  },
  {
   "cell_type": "code",
   "execution_count": 5,
   "metadata": {},
   "outputs": [
    {
     "name": "stdout",
     "output_type": "stream",
     "text": [
      "96 Bytes\n",
      "80 Bytes\n",
      "64 Bytes\n",
      "28 Bytes\n"
     ]
    }
   ],
   "source": [
    "import sys\n",
    "a_list = list()\n",
    "a_tuple = tuple()\n",
    "a_list = [1,2,3,4,5]\n",
    "a_tuple = (1,2,3,4,5)\n",
    "\n",
    "print(sys.getsizeof(a_list),\"Bytes\")\n",
    "print(sys.getsizeof(a_tuple),'Bytes')\n",
    "list1 = [1]#,2,3,4,5]\n",
    "tuple1 = (1)#,2,3,4,5)\n",
    "\n",
    "print(sys.getsizeof(list1),\"Bytes\")\n",
    "print(sys.getsizeof(tuple1),'Bytes')"
   ]
  },
  {
   "cell_type": "code",
   "execution_count": 18,
   "metadata": {},
   "outputs": [
    {
     "name": "stdout",
     "output_type": "stream",
     "text": [
      "People:{'prasad', 'tirath', 'nagvekar'}\n",
      "{'prasad', 'tirath', 'Deepa', 'nagvekar'}\n",
      "{1, 2, 3, 'prasad', 'Deepa', 4, 5, 'tirath', 'nagvekar'}\n",
      "{1, 2, 3, 'prasad', 'Deepa', 4, 5, 'tirath', 'nagvekar'}\n",
      "{1, 2, 3, 'prasad', 'Deepa', 4, 5, 8, 9, 6, 7, 'tirath', 'nagvekar'}\n",
      "{1, 2, 3, 'prasad', 'Deepa', 4, 5, 8, 9, 6, 7, 'tirath', 10, 11, 12, 13, 14, 'nagvekar'}\n",
      "{1, 2, 3, 'prasad', 4, 5, 6, 8, 9, 7, 10, 11, 12, 13, 14, 20, 21, 22, 23, 24, 'nagvekar', 'Deepa', 'tirath'}\n"
     ]
    }
   ],
   "source": [
    "#creating the set\n",
    "people = {\"tirath\", \"prasad\", \"nagvekar\"}\n",
    "vampires ={6,7,8,9}\n",
    "dracula = {10,11,12,13,14}\n",
    "interface ={20,21,22,23,24}\n",
    "print(\"People:\", end = \"\")\n",
    "print(people)\n",
    "\n",
    "people.add(\"Deepa\")\n",
    "print(people)\n",
    "for i in range(1,6):\n",
    "    people.add(i)\n",
    "print(people)\n",
    "\n",
    "people.union(vampires)\n",
    "print(people)\n",
    "\n",
    "people = people.union(vampires)\n",
    "print(people)\n",
    "\n",
    "population = people|dracula\n",
    "print(population)\n",
    "\n",
    "as1=population|interface\n",
    "print(as1)"
   ]
  },
  {
   "cell_type": "code",
   "execution_count": 22,
   "metadata": {},
   "outputs": [
    {
     "name": "stdout",
     "output_type": "stream",
     "text": [
      "Intersection of sets\n",
      "{3, 4}\n",
      "Intersection of sets using & operator\n",
      "{3, 4}\n"
     ]
    }
   ],
   "source": [
    "set1=set()\n",
    "set2=set()\n",
    "for i in range(5):\n",
    "    set1.add(i)\n",
    "\n",
    "for i in range(3,9):\n",
    "    set2.add(i)\n",
    "\n",
    "set3 = set1.intersection(set2)\n",
    "print(\"Intersection of sets\")\n",
    "print(set3)\n",
    "\n",
    "set3 = set1 & set2\n",
    "print(\"Intersection of sets using & operator\")\n",
    "print(set3)"
   ]
  },
  {
   "cell_type": "code",
   "execution_count": 25,
   "metadata": {},
   "outputs": [
    {
     "name": "stdout",
     "output_type": "stream",
     "text": [
      "{0, 1, 2}\n",
      "{0, 1, 2}\n",
      "{8, 5, 6, 7}\n"
     ]
    }
   ],
   "source": [
    "#difference\n",
    "set1 = set()\n",
    "set2 = set()\n",
    "for i in range(5):\n",
    "    set1.add(i)\n",
    "\n",
    "for i in range(3,9):\n",
    "    set2.add(i)\n",
    "\n",
    "set3 = set1.difference(set2)\n",
    "print(set3)\n",
    "\n",
    "set3 = set1 - set2\n",
    "print(set3)\n",
    "\n",
    "set3 = set2 - set1\n",
    "print(set3)"
   ]
  }
 ],
 "metadata": {
  "kernelspec": {
   "display_name": "Python 3.10.5 64-bit",
   "language": "python",
   "name": "python3"
  },
  "language_info": {
   "codemirror_mode": {
    "name": "ipython",
    "version": 3
   },
   "file_extension": ".py",
   "mimetype": "text/x-python",
   "name": "python",
   "nbconvert_exporter": "python",
   "pygments_lexer": "ipython3",
   "version": "3.10.5"
  },
  "orig_nbformat": 4,
  "vscode": {
   "interpreter": {
    "hash": "fb4569285eef3a3450cb62085a5b1e0da4bce0af555edc33dcf29baf3acc1368"
   }
  }
 },
 "nbformat": 4,
 "nbformat_minor": 2
}
