{
 "cells": [
  {
   "cell_type": "code",
   "execution_count": 1,
   "metadata": {},
   "outputs": [
    {
     "name": "stdout",
     "output_type": "stream",
     "text": [
      "[0, 1, 1, 2, 3, 5, 8, 13, 21, 34]\n"
     ]
    }
   ],
   "source": [
    "# Q4Generate Fibonacci sequence using lammda : Author Tirath\n",
    "m = 10\n",
    "n =[]\n",
    "\n",
    "def lambda_z():\n",
    "    return lambda f,g : f + g\n",
    "\n",
    "for i in range(0,m):\n",
    "    if (i == 0):\n",
    "        c = 0\n",
    "        n.append(c)\n",
    "    elif (i == 1):\n",
    "        c = 1\n",
    "        n.append(c)\n",
    "    elif (i >= 2):\n",
    "        f = n[i-2]\n",
    "        g = n[i-1]\n",
    "        c = lambda_z()\n",
    "        res=c(f,g)\n",
    "        n.append(res)\n",
    "print(n)\n"
   ]
  },
  {
   "cell_type": "code",
   "execution_count": 2,
   "metadata": {},
   "outputs": [
    {
     "name": "stdout",
     "output_type": "stream",
     "text": [
      "The value of the number 3\n",
      "The value of the power 2\n",
      "Power of the number  =  9\n"
     ]
    }
   ],
   "source": [
    "#Q1 : Power of the number using recursion\n",
    "\n",
    "def pow_num(n,p):\n",
    "    if p == 0:\n",
    "        return 1\n",
    "    else:\n",
    "        return (n*(pow_num(n,p-1)))\n",
    "\n",
    "#n = int(input(\"Enter the value of the number , n = \"))\n",
    "#p = int(input(\"Enter the value of the power , p = \"))   \n",
    "n = 3\n",
    "p = 2 \n",
    "result = pow_num(n,p)\n",
    "print(\"The value of the number\", n)\n",
    "print(\"The value of the power\", p)\n",
    "print(\"Power of the number  = \", result)"
   ]
  },
  {
   "cell_type": "code",
   "execution_count": 4,
   "metadata": {},
   "outputs": [
    {
     "name": "stdout",
     "output_type": "stream",
     "text": [
      "intermediate values 5\n",
      "intermediate values 25\n",
      "intermediate values 125\n",
      "intermediate values 625\n",
      "intermediate values 3125\n",
      "intermediate values 15625\n",
      "intermediate values 78125\n",
      "intermediate values 390625\n",
      "intermediate values 1953125\n",
      "intermediate values 9765625\n",
      "The value of the number 5\n",
      "The value of the power 10\n",
      "Power of the number  =  9765625\n"
     ]
    }
   ],
   "source": [
    "#Q2 printing multiple arguments\n",
    "\n",
    "def pow_num(n,p):\n",
    "    if p == 0:\n",
    "        return 1\n",
    "    else:\n",
    "        r = (n*(pow_num(n,p-1)))\n",
    "        print(\"intermediate values\", r)\n",
    "        return r\n",
    "\n",
    "#n = int(input(\"Enter the value of the number , n = \"))\n",
    "#p = int(input(\"Enter the value of the power , p = \"))   \n",
    "n = 5\n",
    "p = 10\n",
    "\n",
    "result = pow_num(n,p)\n",
    "print(\"The value of the number\", n)\n",
    "print(\"The value of the power\", p)\n",
    "print(\"Power of the number  = \", result)"
   ]
  },
  {
   "cell_type": "code",
   "execution_count": 5,
   "metadata": {},
   "outputs": [
    {
     "name": "stdout",
     "output_type": "stream",
     "text": [
      "[0, 1, 2, 4, 10, 23, 30, 43, 52, 67, 78, 100]\n",
      "[0, 1, 2, 4, 10, 23, 30, 43, 52, 67, 78, 100]\n"
     ]
    }
   ],
   "source": [
    "#Q3 : Sorting in Ascending order\n",
    "a =[1,0,10,30,23,78,100,4,2,43,52,67]\n",
    "a.sort()\n",
    "print(a)\n",
    "\n",
    "a =[1,0,10,30,23,78,100,4,2,43,52,67]\n",
    "n = len(a)\n",
    "for i in range(n):\n",
    "    j = i+1\n",
    "    for j in range(n):\n",
    "        if(a[i] < a[j]):\n",
    "            s = a[i]\n",
    "            a[i] = a[j]\n",
    "            a[j] = s\n",
    "print(a)"
   ]
  }
 ],
 "metadata": {
  "kernelspec": {
   "display_name": "Python 3.10.5 64-bit",
   "language": "python",
   "name": "python3"
  },
  "language_info": {
   "codemirror_mode": {
    "name": "ipython",
    "version": 3
   },
   "file_extension": ".py",
   "mimetype": "text/x-python",
   "name": "python",
   "nbconvert_exporter": "python",
   "pygments_lexer": "ipython3",
   "version": "3.10.5"
  },
  "orig_nbformat": 4,
  "vscode": {
   "interpreter": {
    "hash": "fb4569285eef3a3450cb62085a5b1e0da4bce0af555edc33dcf29baf3acc1368"
   }
  }
 },
 "nbformat": 4,
 "nbformat_minor": 2
}
